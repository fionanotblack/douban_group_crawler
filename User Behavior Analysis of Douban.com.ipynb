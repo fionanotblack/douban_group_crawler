{
 "cells": [
  {
   "cell_type": "code",
   "execution_count": 2,
   "metadata": {
    "collapsed": true
   },
   "outputs": [],
   "source": [
    "import pandas as pd\n",
    "import numpy as np\n",
    "import matplotlib.pyplot as plt\n",
    "\n",
    "# pandas is a software library for data manipulation and analysis\n",
    "# We commonly use shorter nicknames for certain packages. Pandas is often abbreviated to pd.\n",
    "# hit shift + enter to run this cell or block of code\n",
    "# posts file path\n",
    "posts_file = \"C:\\Users\\speng\\IdeaProjects\\LeadsCrawling\\job\\\\result\\posts.csv\"\n",
    "posts_df = pd.read_csv(posts_file)\n",
    "comments_file = \"C:\\Users\\speng\\IdeaProjects\\LeadsCrawling\\job\\comments.csv\"\n",
    "comments_df = pd.read_csv(comments_file)\n",
    "members_file = \"C:\\Users\\speng\\IdeaProjects\\LeadsCrawling\\job\\members.csv\"\n",
    "members_df = pd.read_csv(members_file)"
   ]
  },
  {
   "cell_type": "code",
   "execution_count": 3,
   "metadata": {
    "collapsed": false
   },
   "outputs": [
    {
     "name": "stdout",
     "output_type": "stream",
     "text": [
      "title              183207\n",
      "author             183368\n",
      "replies            169422\n",
      "last_reply_time    183368\n",
      "href               183368\n",
      "dtype: int64\n"
     ]
    }
   ],
   "source": [
    "# Count of posts\n",
    "print posts_df.count()\n"
   ]
  },
  {
   "cell_type": "code",
   "execution_count": 4,
   "metadata": {
    "collapsed": false
   },
   "outputs": [
    {
     "name": "stdout",
     "output_type": "stream",
     "text": [
      "57895\n"
     ]
    }
   ],
   "source": [
    "# the number of authots id \n",
    "print len(posts_df['author'].unique())"
   ]
  },
  {
   "cell_type": "code",
   "execution_count": 5,
   "metadata": {
    "collapsed": false
   },
   "outputs": [
    {
     "name": "stdout",
     "output_type": "stream",
     "text": [
      "                title  replies  last_reply_time  href\n",
      "author                                               \n",
      "44636442          395      374              395   395\n",
      "indelebile        284      273              284   284\n",
      "133836717         279      239              279   279\n",
      "S.oner            246      244              246   246\n",
      "Simonsaye         237      224              237   237\n",
      "124134093         218       25              218   218\n",
      "69484083          208       29              208   208\n",
      "39042514          207      194              207   207\n",
      "vinvella          201      189              201   201\n",
      "kisminekayking    193      192              193   193\n"
     ]
    }
   ],
   "source": [
    "# count posts for each author\n",
    "# top 10\n",
    "print posts_df.groupby('author').count().sort('href',ascending=False).head(10)"
   ]
  },
  {
   "cell_type": "code",
   "execution_count": 28,
   "metadata": {
    "collapsed": false
   },
   "outputs": [
    {
     "name": "stdout",
     "output_type": "stream",
     "text": [
      "                           title    author  replies last_reply_time  \\\n",
      "44734                  嘿嘿嘿,来个帅T吧  44636442       14      2015-02-14   \n",
      "55960             有没有女人,后腰有两个凹陷的  44636442       66      2014-10-13   \n",
      "91008                     求英文名字,  44636442        2      2013-09-16   \n",
      "93072                妇科医生能看出LES么  44636442       44      2013-08-16   \n",
      "96068         你们最近买了神马衣服,敢不敢上链接！  44636442       12      2013-07-12   \n",
      "98267             老T性欲强小P吃不消怎么办?  44636442       27      2013-06-10   \n",
      "98413            年纪大的T性欲强小PP怎么办?  44636442        3      2013-06-08   \n",
      "103100      如果EX升到你的顶头上司,你会不会辞职?  44636442       43      2013-04-04   \n",
      "105271           你喜欢的T喜欢一个丑P你怎么办  44636442       80      2013-03-06   \n",
      "105401        我觉得我是一粒尘埃,被扔在渺茫宇宙.  44636442        5      2013-03-04   \n",
      "106344            虽然是大婶,依然希望做清新P  44636442       16      2013-02-18   \n",
      "106463                   还是现任适合我  44636442        7      2013-02-16   \n",
      "106542        回答问题...随便问什么..你们问吧  44636442       15      2013-02-15   \n",
      "106550                    唉,老了老了  44636442       26      2013-02-15   \n",
      "106562           今天回去见现任了...等等就走  44636442      NaN      2013-02-15   \n",
      "106603           情人节和EX在一起......  44636442        2      2013-02-14   \n",
      "106694             (负荆请罪)辛瓜辛  是T  44636442       12      2013-02-13   \n",
      "106953             冬天手指很冰影响幸福怎么办  44636442        1      2013-02-09   \n",
      "107132                最大理想,做个辅导员  44636442       14      2013-02-06   \n",
      "107311                 被EX跟踪怎么办/  44636442        3      2013-02-04   \n",
      "107318                年终奖你们拿了多少?  44636442       28      2013-02-04   \n",
      "107431  EX找到我的城市了...可是我已经和别人在一起了  44636442       14      2013-02-02   \n",
      "107465           有人白天拥有我,有人晚上拥有我  44636442        5      2013-02-02   \n",
      "108482                 我要抱个帅TT睡嘛  44636442        5      2013-01-17   \n",
      "109600            我胸部大,买不到衣服.求推荐  44636442        7      2012-12-28   \n",
      "111822                        卖身  44636442        1      2012-12-01   \n",
      "113568                  我是一个孤独的P  44636442       28      2012-10-23   \n",
      "113734       我最喜欢内心热情假装冷漠的酷酷天蝎T了  44636442       31      2012-10-20   \n",
      "113919    我每天都要看她,等一个像她的TT专心虐我..  44636442       34      2012-10-16   \n",
      "114116                   木有好T真郁闷  44636442       30      2012-10-12   \n",
      "...                          ...       ...      ...             ...   \n",
      "156791          异个国异个地在我看来跟人妖恋似的  44636442        2      2010-09-24   \n",
      "156794       你们是一个人在外生活，还是和家人生活？  44636442       36      2010-09-24   \n",
      "156840                   我是有多帅啊！  44636442        4      2010-09-23   \n",
      "156846     在家好无聊，晚上上海哪里很好玩又可过夜的？  44636442        2      2010-09-23   \n",
      "156855        想读书，不为文凭，只为学到彪悍的东西  44636442        5      2010-09-23   \n",
      "156863            我是妈妈桑，我是来收乖女儿的  44636442       10      2010-09-23   \n",
      "156867                    胖女生心肠好  44636442       22      2010-09-23   \n",
      "156872               明天有去来福士·玩的吗  44636442        8      2010-09-23   \n",
      "156999                      求个群聊  44636442      NaN      2010-09-21   \n",
      "157001                  求来福士周边酒店  44636442        1      2010-09-20   \n",
      "157018                 大家都自己画头像吧  44636442        4      2010-09-20   \n",
      "157020               求一群说话，我快冻死了  44636442        9      2010-09-20   \n",
      "157082             上海还有哪里能看到帅T的啊  44636442        9      2010-09-19   \n",
      "157205     最近眼福很好，原来我们这小城那么多帅T妖H  44636442        1      2010-09-17   \n",
      "157331           我曾经捡到一个U盘，于是我弯了  44636442        4      2010-09-15   \n",
      "157382           今天看了一女人的BLOG点评下  44636442      NaN      2010-09-14   \n",
      "157527        我今天去我们这儿的中专，看见好多T啊  44636442      NaN      2010-09-11   \n",
      "157630                 剪好短发了，泡妞啦  44636442       25      2010-09-09   \n",
      "157668                      短发。。  44636442        5      2010-09-09   \n",
      "157782             我喜欢的人是个单纯的小痴呆  44636442        6      2010-09-07   \n",
      "157814         我觉得各种系列的妆容，咱内地的最烂  44636442      NaN      2010-09-06   \n",
      "157817                     华贵运动风  44636442        2      2010-09-06   \n",
      "157819        当我看见情敌真相的那刻，我放心了。。  44636442        9      2010-09-06   \n",
      "157833      爱用下划线的，是不是都是书写工整的好孩子  44636442        2      2010-09-06   \n",
      "158299                   谁能，温暖我？  44636442        1      2010-08-29   \n",
      "158356               本人诚征说话狠的主。。  44636442       23      2010-08-28   \n",
      "158367         如果一个人想结束过去，做什么最好？  44636442       11      2010-08-28   \n",
      "158385                     想回到过去  44636442      NaN      2010-08-28   \n",
      "159176                   我爱的人爱别人  44636442        3      2010-08-16   \n",
      "159242               不发个帖不能证明我来过  44636442       12      2010-08-15   \n",
      "\n",
      "                                                href  \n",
      "44734   https://www.douban.com/group/topic/18883081/  \n",
      "55960   https://www.douban.com/group/topic/17065431/  \n",
      "91008   https://www.douban.com/group/topic/29087875/  \n",
      "93072   https://www.douban.com/group/topic/18032748/  \n",
      "96068   https://www.douban.com/group/topic/23511004/  \n",
      "98267   https://www.douban.com/group/topic/27726115/  \n",
      "98413   https://www.douban.com/group/topic/27633866/  \n",
      "103100  https://www.douban.com/group/topic/37412138/  \n",
      "105271  https://www.douban.com/group/topic/24022262/  \n",
      "105401  https://www.douban.com/group/topic/37049618/  \n",
      "106344  https://www.douban.com/group/topic/36682913/  \n",
      "106463  https://www.douban.com/group/topic/36664895/  \n",
      "106542  https://www.douban.com/group/topic/36658918/  \n",
      "106550  https://www.douban.com/group/topic/36657789/  \n",
      "106562  https://www.douban.com/group/topic/36655105/  \n",
      "106603  https://www.douban.com/group/topic/36647616/  \n",
      "106694  https://www.douban.com/group/topic/36618336/  \n",
      "106953  https://www.douban.com/group/topic/36575561/  \n",
      "107132  https://www.douban.com/group/topic/36533474/  \n",
      "107311  https://www.douban.com/group/topic/36487634/  \n",
      "107318  https://www.douban.com/group/topic/36468012/  \n",
      "107431  https://www.douban.com/group/topic/36458255/  \n",
      "107465  https://www.douban.com/group/topic/36447668/  \n",
      "108482  https://www.douban.com/group/topic/35548742/  \n",
      "109600  https://www.douban.com/group/topic/35516017/  \n",
      "111822  https://www.douban.com/group/topic/34758471/  \n",
      "113568  https://www.douban.com/group/topic/33672045/  \n",
      "113734  https://www.douban.com/group/topic/33428688/  \n",
      "113919  https://www.douban.com/group/topic/33208060/  \n",
      "114116  https://www.douban.com/group/topic/33420132/  \n",
      "...                                              ...  \n",
      "156791  https://www.douban.com/group/topic/14308656/  \n",
      "156794  https://www.douban.com/group/topic/14307587/  \n",
      "156840  https://www.douban.com/group/topic/14288978/  \n",
      "156846  https://www.douban.com/group/topic/14288306/  \n",
      "156855  https://www.douban.com/group/topic/14279916/  \n",
      "156863  https://www.douban.com/group/topic/14279488/  \n",
      "156867  https://www.douban.com/group/topic/14279502/  \n",
      "156872  https://www.douban.com/group/topic/14256909/  \n",
      "156999  https://www.douban.com/group/topic/14226968/  \n",
      "157001  https://www.douban.com/group/topic/14226328/  \n",
      "157018  https://www.douban.com/group/topic/14221334/  \n",
      "157020  https://www.douban.com/group/topic/14212349/  \n",
      "157082  https://www.douban.com/group/topic/14189634/  \n",
      "157205  https://www.douban.com/group/topic/14127178/  \n",
      "157331  https://www.douban.com/group/topic/14063942/  \n",
      "157382  https://www.douban.com/group/topic/14029905/  \n",
      "157527  https://www.douban.com/group/topic/13962248/  \n",
      "157630  https://www.douban.com/group/topic/13908846/  \n",
      "157668  https://www.douban.com/group/topic/13906069/  \n",
      "157782  https://www.douban.com/group/topic/13849515/  \n",
      "157814  https://www.douban.com/group/topic/13849979/  \n",
      "157817  https://www.douban.com/group/topic/13849767/  \n",
      "157819  https://www.douban.com/group/topic/13848544/  \n",
      "157833  https://www.douban.com/group/topic/13836041/  \n",
      "158299  https://www.douban.com/group/topic/13669575/  \n",
      "158356  https://www.douban.com/group/topic/13650754/  \n",
      "158367  https://www.douban.com/group/topic/13650083/  \n",
      "158385  https://www.douban.com/group/topic/13647863/  \n",
      "159176  https://www.douban.com/group/topic/13406291/  \n",
      "159242  https://www.douban.com/group/topic/13391151/  \n",
      "\n",
      "[395 rows x 5 columns]\n"
     ]
    }
   ],
   "source": [
    "# find out posts send by top 1 author heiheihei\n",
    "print posts_df[posts_df.author == \"44636442\"]"
   ]
  },
  {
   "cell_type": "code",
   "execution_count": 6,
   "metadata": {
    "collapsed": false
   },
   "outputs": [
    {
     "name": "stdout",
     "output_type": "stream",
     "text": [
      "2016-05-07 19:41:00\n",
      "last_reply_time\n",
      "2006      124\n",
      "2007      792\n",
      "2008     1899\n",
      "2009    12647\n",
      "2010    17891\n",
      "2011    20907\n",
      "2012    19677\n",
      "2013    26263\n",
      "2014    34501\n",
      "2015    35279\n",
      "2016    13388\n",
      "Name: href, dtype: int64\n",
      "Populating the interactive namespace from numpy and matplotlib\n"
     ]
    },
    {
     "data": {
      "text/plain": [
       "<matplotlib.axes._subplots.AxesSubplot at 0x12541cc0>"
      ]
     },
     "execution_count": 6,
     "metadata": {},
     "output_type": "execute_result"
    },
    {
     "data": {
      "text/plain": [
       "<matplotlib.figure.Figure at 0xc15c048>"
      ]
     },
     "metadata": {},
     "output_type": "display_data"
    },
    {
     "data": {
      "image/png": "[encoded data removed]",
      "text/plain": [
       "<matplotlib.figure.Figure at 0x12541710>"
      ]
     },
     "metadata": {},
     "output_type": "display_data"
    }
   ],
   "source": [
    "posts_df['last_reply_time'] = pd.to_datetime(posts_df['last_reply_time'])\n",
    "print posts_df['last_reply_time'].max()\n",
    "# histgram of posts number in each year\n",
    "year_df = posts_df.groupby(posts_df['last_reply_time'].map(lambda x:x.year)).count('href')\n",
    "print year_df['href']\n",
    "%pylab inline\n",
    "plt.figure()\n",
    "year_df.plot(kind='bar',x=year_df.index,y='href')"
   ]
  },
  {
   "cell_type": "code",
   "execution_count": 49,
   "metadata": {
    "collapsed": false
   },
   "outputs": [
    {
     "name": "stdout",
     "output_type": "stream",
     "text": [
      "last_reply_time\n",
      "1     14892\n",
      "2     15042\n",
      "3     15753\n",
      "4     16686\n",
      "5     16046\n",
      "6     13552\n",
      "7     14297\n",
      "8     16033\n",
      "9     14146\n",
      "10    15608\n",
      "11    14716\n",
      "12    16597\n",
      "Name: href, dtype: int64\n",
      "Populating the interactive namespace from numpy and matplotlib\n"
     ]
    },
    {
     "data": {
      "text/plain": [
       "<matplotlib.axes._subplots.AxesSubplot at 0x11fbd3c8>"
      ]
     },
     "execution_count": 49,
     "metadata": {},
     "output_type": "execute_result"
    },
    {
     "data": {
      "text/plain": [
       "<matplotlib.figure.Figure at 0x100b1828>"
      ]
     },
     "metadata": {},
     "output_type": "display_data"
    },
    {
     "data": {
      "image/png": "[encoded data removed]",
      "text/plain": [
       "<matplotlib.figure.Figure at 0x1245b358>"
      ]
     },
     "metadata": {},
     "output_type": "display_data"
    }
   ],
   "source": [
    "# histgram of posts number binning by month\n",
    "month_df = posts_df.groupby(posts_df['last_reply_time'].map(lambda x:x.month)).count('href')\n",
    "print month_df['href']\n",
    "%pylab inline\n",
    "plt.figure()\n",
    "month_df.plot(kind='bar',x=month_df.index,y='href')"
   ]
  },
  {
   "cell_type": "code",
   "execution_count": 64,
   "metadata": {
    "collapsed": false
   },
   "outputs": [
    {
     "name": "stdout",
     "output_type": "stream",
     "text": [
      "title              13250\n",
      "author             13250\n",
      "replies            12300\n",
      "last_reply_time    13250\n",
      "href               13250\n",
      "dtype: int64\n",
      "title              1727\n",
      "author             1727\n",
      "replies            1692\n",
      "last_reply_time    1727\n",
      "href               1727\n",
      "dtype: int64\n",
      "title              3886\n",
      "author             3886\n",
      "replies            3665\n",
      "last_reply_time    3886\n",
      "href               3886\n",
      "dtype: int64\n"
     ]
    }
   ],
   "source": [
    "# count posts contain special key words\n",
    "print posts_df[(posts_df['title'].fillna('').str.contains('蒸')) | posts_df['title'].fillna('').str.contains('征')].count()\n",
    "\n",
    "print posts_df[(posts_df['title'].fillna('').str.contains('前任'))  | posts_df['title'].fillna('').str.contains('ex',case=False)].count()\n",
    "\n",
    "print posts_df[(posts_df['title'].fillna('').str.contains('分'))].count()"
   ]
  },
  {
   "cell_type": "code",
   "execution_count": 73,
   "metadata": {
    "collapsed": false
   },
   "outputs": [
    {
     "name": "stdout",
     "output_type": "stream",
     "text": [
      "                                                href  replies  \\\n",
      "911     https://www.douban.com/group/topic/16153747/   204953   \n",
      "1966    https://www.douban.com/group/topic/53153624/    50867   \n",
      "32      https://www.douban.com/group/topic/17505748/    38676   \n",
      "103193  https://www.douban.com/group/topic/16812408/    36926   \n",
      "81067   https://www.douban.com/group/topic/14299885/    32930   \n",
      "73740   https://www.douban.com/group/topic/36043315/    32503   \n",
      "182     https://www.douban.com/group/topic/75297183/    25184   \n",
      "33      https://www.douban.com/group/topic/79648267/    24321   \n",
      "101115  https://www.douban.com/group/topic/14883064/    20938   \n",
      "128507  https://www.douban.com/group/topic/19500149/    20036   \n",
      "\n",
      "                                                  title  \n",
      "911                                           交通广播每日路况。  \n",
      "1966    【勿转载谢谢】感觉一个实习妹子和她上级有点猫腻。。/现实纠缠还是憋停了눈_눈 【吱吱吱猴赛雷…  \n",
      "32                                                【点楼】.  \n",
      "103193                                         ～~—鱼馆—~～  \n",
      "81067                                           咱们聊会儿天吧  \n",
      "73740                            没错我就是美少女占士！！！！！！！！！！！！  \n",
      "182                              无关TP的一个故事【严禁转载到别处，谢谢！】  \n",
      "33                                     눈_눈♥小伙伴们聊得太快像龙卷风  \n",
      "101115                             现在的P能温情点么(嗨。交真相好么。。）  \n",
      "128507                             两鬓斑白都可认得你【谢谢你，敢与我相爱】  \n"
     ]
    }
   ],
   "source": [
    "print posts_df.fillna(0).sort('replies', ascending=False)[['href','replies','title']].head(10)"
   ]
  },
  {
   "cell_type": "code",
   "execution_count": 77,
   "metadata": {
    "collapsed": false
   },
   "outputs": [
    {
     "name": "stdout",
     "output_type": "stream",
     "text": [
      "count    183368.000000\n",
      "mean         57.246281\n",
      "std         588.419785\n",
      "min           0.000000\n",
      "25%           5.000000\n",
      "50%          16.000000\n",
      "75%          47.000000\n",
      "max      204953.000000\n",
      "Name: replies, dtype: float64\n"
     ]
    }
   ],
   "source": [
    "#distribution of comments number of posts\n",
    "print posts_df.fillna(0)['replies'].describe()"
   ]
  },
  {
   "cell_type": "code",
   "execution_count": 132,
   "metadata": {
    "collapsed": false
   },
   "outputs": [
    {
     "name": "stdout",
     "output_type": "stream",
     "text": [
      "Index([u'post_id', u'user_id', u'comment_id', u'pub_time'], dtype='object')\n",
      "1475623\n",
      "1475623\n",
      "1475623\n",
      "17044\n",
      "52105\n"
     ]
    }
   ],
   "source": [
    "print comments_df.columns\n",
    "print comments_df['comment_id'].count()\n",
    "print len(comments_df['comment_id'].unique())\n",
    "# remove duplicated comments\n",
    "comments_df = comments_df.drop_duplicates('comment_id', take_last=True)\n",
    "print comments_df['comment_id'].count()\n",
    "print len(comments_df['post_id'].unique())\n",
    "print len(comments_df['user_id'].unique())"
   ]
  },
  {
   "cell_type": "code",
   "execution_count": 117,
   "metadata": {
    "collapsed": false
   },
   "outputs": [
    {
     "name": "stdout",
     "output_type": "stream",
     "text": [
      "post_id\n",
      "1230298    3410\n",
      "1241657    3350\n",
      "1293657    3312\n",
      "1537344    3299\n",
      "2181018    2935\n",
      "3053595    2814\n",
      "4817479    2694\n",
      "5293430    2576\n",
      "5788864    2440\n",
      "7677802    2427\n",
      "dtype: int64\n",
      "count    17044.000000\n",
      "mean        53.460103\n",
      "std        210.065444\n",
      "min          0.000000\n",
      "25%          0.000000\n",
      "50%          0.000000\n",
      "75%          7.000000\n",
      "max       3410.000000\n",
      "dtype: float64\n"
     ]
    }
   ],
   "source": [
    "comments_df['pub_time'] = pd.to_datetime(comments_df['pub_time'])\n",
    "def get_days_between_first_and_last_comments(group):\n",
    "    first_comment_time = group['pub_time'].min()\n",
    "    last_comment_time = group['pub_time'].max()\n",
    "    return (last_comment_time - first_comment_time).days\n",
    "\n",
    "comments_live_days_df = comments_df.groupby('post_id').apply(get_days_between_first_and_last_comments).order(ascending=False)\n",
    "print comments_live_days_df.head(10)\n",
    "print comments_live_days_df.describe()\n"
   ]
  },
  {
   "cell_type": "code",
   "execution_count": 123,
   "metadata": {
    "collapsed": false
   },
   "outputs": [
    {
     "name": "stdout",
     "output_type": "stream",
     "text": [
      "pub_time\n",
      "0     105650\n",
      "1      58133\n",
      "2      29568\n",
      "3      15238\n",
      "4       9157\n",
      "5       7066\n",
      "6      10536\n",
      "7      21482\n",
      "8      36883\n",
      "9      55271\n",
      "10     66215\n",
      "11     68023\n",
      "12     64398\n",
      "13     69061\n",
      "14     66264\n",
      "15     66192\n",
      "16     68486\n",
      "17     62717\n",
      "18     60331\n",
      "19     70527\n",
      "20     85355\n",
      "21    106539\n",
      "22    130117\n",
      "23    142414\n",
      "Name: comment_id, dtype: int64\n",
      "Populating the interactive namespace from numpy and matplotlib\n"
     ]
    },
    {
     "data": {
      "text/plain": [
       "<matplotlib.axes._subplots.AxesSubplot at 0x14b8ac88>"
      ]
     },
     "execution_count": 123,
     "metadata": {},
     "output_type": "execute_result"
    },
    {
     "data": {
      "text/plain": [
       "<matplotlib.figure.Figure at 0x1247c0b8>"
      ]
     },
     "metadata": {},
     "output_type": "display_data"
    },
    {
     "data": {
      "image/png": "[encoded data removed]",
      "text/plain": [
       "<matplotlib.figure.Figure at 0x236d4a20>"
      ]
     },
     "metadata": {},
     "output_type": "display_data"
    }
   ],
   "source": [
    "comments_hourly_df = comments_df.groupby(comments_df['pub_time'].map(lambda x:x.hour)).count('comment_id')\n",
    "print comments_hourly_df['comment_id']\n",
    "%pylab inline\n",
    "plt.figure()\n",
    "comments_hourly_df.plot(kind='pie',x=comments_hourly_df.index,y='comment_id')"
   ]
  },
  {
   "cell_type": "code",
   "execution_count": 133,
   "metadata": {
    "collapsed": false
   },
   "outputs": [
    {
     "name": "stdout",
     "output_type": "stream",
     "text": [
      "                comment_id\n",
      "user_id                   \n",
      "misszhao7            20851\n",
      "89619388             20009\n",
      "102934272             8945\n",
      "41924809              6863\n",
      "jcx_eleven            6302\n",
      "travellingmind        6253\n",
      "moleizhizhu           4966\n",
      "4382644               4592\n",
      "77844031              4019\n",
      "51245672              3980\n"
     ]
    }
   ],
   "source": [
    "# top 10 users commenting posts\n",
    "print comments_df[['user_id', 'comment_id']].groupby('user_id').count().sort('comment_id',ascending=False).head(10)"
   ]
  },
  {
   "cell_type": "code",
   "execution_count": 145,
   "metadata": {
    "collapsed": false
   },
   "outputs": [
    {
     "name": "stdout",
     "output_type": "stream",
     "text": [
      "Index([u'user_id', u'username', u'location'], dtype='object')\n",
      "user_id     190199\n",
      "username    190188\n",
      "location    128475\n",
      "dtype: int64\n",
      "156341\n"
     ]
    }
   ],
   "source": [
    "print members_df.columns\n",
    "print members_df.count()\n",
    "print len(members_df['username'].unique())\n"
   ]
  },
  {
   "cell_type": "code",
   "execution_count": 153,
   "metadata": {
    "collapsed": false
   },
   "outputs": [
    {
     "name": "stdout",
     "output_type": "stream",
     "text": [
      "          user_id\n",
      "username         \n",
      "[已注销]         857\n",
      "。             178\n",
      "L             119\n",
      "已注销           108\n",
      "summer        106\n",
      ".             106\n",
      "S              88\n",
      "               88\n",
      "M              80\n",
      "?              77\n",
      "豆豆             73\n",
      "-              69\n",
      "木木             60\n",
      "J              57\n",
      "123            57\n",
      "Summer         57\n",
      "sunshine       55\n",
      "seven          55\n",
      "K              53\n",
      "Z              53\n",
      "                user_id username       location\n",
      "122           145520298    [已注销]             上海\n",
      "180           145488725    [已注销]            NaN\n",
      "509           145395520    [已注销]            NaN\n",
      "745           139961250    [已注销]             北京\n",
      "780           145321341    [已注销]             北京\n",
      "868           136364473    [已注销]             北京\n",
      "916           139066837    [已注销]             南京\n",
      "967            55818097    [已注销]            NaN\n",
      "1046          145201436    [已注销]             杭州\n",
      "1068           49647558    [已注销]             上海\n",
      "1246          145123304    [已注销]             北京\n",
      "1248          144646694    [已注销]             深圳\n",
      "1949          144815619    [已注销]             北京\n",
      "2127          jimomaoyi    [已注销]             沈阳\n",
      "2131          144596537    [已注销]             北京\n",
      "2151          139435841    [已注销]             北京\n",
      "2323            1819962    [已注销]      Hiroshima\n",
      "2789           71764926    [已注销]            NaN\n",
      "2816          130246142    [已注销]             上海\n",
      "2973          144419132    [已注销]             北京\n",
      "3057          144353799    [已注销]             青岛\n",
      "3080          136043802    [已注销]  New York City\n",
      "3082          143366576    [已注销]            NaN\n",
      "3129          144349828    [已注销]             苏州\n",
      "3160          132278181    [已注销]             西安\n",
      "3374          144245454    [已注销]             南京\n",
      "3378          144197580    [已注销]             北京\n",
      "3570            Qiu1006    [已注销]            NaN\n",
      "3695           41878598    [已注销]            NaN\n",
      "3707           45407596    [已注销]            NaN\n",
      "...                 ...      ...            ...\n",
      "173575         42630472    [已注销]             大连\n",
      "173640         28945053    [已注销]            NaN\n",
      "173697         31531015    [已注销]             成都\n",
      "173863         48647656    [已注销]             南京\n",
      "174116         pidawang    [已注销]             上海\n",
      "174722         48176768    [已注销]             福州\n",
      "174895         42809025    [已注销]            NaN\n",
      "176320         nuonuoya    [已注销]        Athínai\n",
      "176555         46554084    [已注销]             厦门\n",
      "177274         cobain_n    [已注销]             上海\n",
      "177320         45390810    [已注销]            NaN\n",
      "178061          4032078    [已注销]             上海\n",
      "178722         44332936    [已注销]            NaN\n",
      "178833         44042260    [已注销]            NaN\n",
      "179704         43626950    [已注销]            NaN\n",
      "179996         37868940    [已注销]        Antigua\n",
      "180776         34945159    [已注销]             武汉\n",
      "181684         39708812    [已注销]             北京\n",
      "183475         25623895    [已注销]            NaN\n",
      "183487           Teaear    [已注销]            NaN\n",
      "184177         yyismylp    [已注销]             北京\n",
      "184589          enpitsu    [已注销]             沧州\n",
      "185029          6650958    [已注销]            NaN\n",
      "185154      fuyun123098    [已注销]             杭州\n",
      "186717         isolde4u    [已注销]             北京\n",
      "188292  zhangduo_199125    [已注销]           齐齐哈尔\n",
      "188372          2161876    [已注销]            NaN\n",
      "188392          2448767    [已注销]             上海\n",
      "189135          2478170    [已注销]             杭州\n",
      "189864        liliansoo    [已注销]             西安\n",
      "\n",
      "[857 rows x 3 columns]\n"
     ]
    }
   ],
   "source": [
    "print members_df[['user_id','username']].groupby('username').count('user_id').sort('user_id',ascending=False).head(20)\n",
    "print members_df[members_df['username'] == '[已注销]']"
   ]
  },
  {
   "cell_type": "code",
   "execution_count": 152,
   "metadata": {
    "collapsed": false
   },
   "outputs": [
    {
     "name": "stdout",
     "output_type": "stream",
     "text": [
      "                              user_id\n",
      "location                             \n",
      "北京                              20591\n",
      "上海                              13872\n",
      "广州                               6228\n",
      "成都                               5698\n",
      "深圳                               5019\n",
      "杭州                               4650\n",
      "武汉                               4243\n",
      "南京                               3828\n",
      "重庆                               3359\n",
      "西安                               3248\n",
      "长沙                               2773\n",
      "天津                               2415\n",
      "苏州                               2093\n",
      "郑州                               1544\n",
      "厦门                               1287\n",
      "青岛                               1254\n",
      "沈阳                               1237\n",
      "大连                               1232\n",
      "哈尔滨                              1211\n",
      "合肥                               1184\n",
      "济南                               1117\n",
      "福州                               1034\n",
      "昆明                                936\n",
      "宁波                                893\n",
      "长春                                880\n",
      "香港                                877\n",
      "无锡                                757\n",
      "温州                                748\n",
      "南昌                                711\n",
      "南宁                                644\n",
      "...                               ...\n",
      "Timor-Leste                         1\n",
      "Konstanz                            1\n",
      "Quebec                              1\n",
      "Koh Chang                           1\n",
      "荣成                                  1\n",
      "Tanjungkarang Bandar Lampung        1\n",
      "Knoxville                           1\n",
      "灵武                                  1\n",
      "Ujungpandang                        1\n",
      "Ulsan                               1\n",
      "海宁                                  1\n",
      "Managua                             1\n",
      "Malmö                               1\n",
      "Wallis and Futuna                   1\n",
      "汨罗                                  1\n",
      "Ludhiāna                            1\n",
      "Gävle                               1\n",
      "Vladivostok                         1\n",
      "Vitória                             1\n",
      "Vijayawāda                          1\n",
      "Bern                                1\n",
      "Bouvet Island                       1\n",
      "Bonn                                1\n",
      "Gent                                1\n",
      "Liechtenstein                       1\n",
      "Bloomington                         1\n",
      "滕州                                  1\n",
      "Bielefeld                           1\n",
      "United States Virgin Islands        1\n",
      "Roskilde                            1\n",
      "\n",
      "[962 rows x 1 columns]\n"
     ]
    }
   ],
   "source": [
    "print members_df[['user_id','location']].groupby('location').count('user_id').sort('user_id',ascending=False)"
   ]
  }
 ],
 "metadata": {
  "kernelspec": {
   "display_name": "Python 2",
   "language": "python",
   "name": "python2"
  },
  "language_info": {
   "codemirror_mode": {
    "name": "ipython",
    "version": 2
   },
   "file_extension": ".py",
   "mimetype": "text/x-python",
   "name": "python",
   "nbconvert_exporter": "python",
   "pygments_lexer": "ipython2",
   "version": "2.7.10"
  }
 },
 "nbformat": 4,
 "nbformat_minor": 0
}
